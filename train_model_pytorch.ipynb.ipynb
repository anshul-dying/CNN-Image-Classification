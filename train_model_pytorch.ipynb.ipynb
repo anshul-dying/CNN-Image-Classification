{
 "cells": [
  {
   "cell_type": "code",
   "execution_count": 12,
   "id": "d1f61cf9-7e26-4e10-8617-69ffeb6e83b0",
   "metadata": {},
   "outputs": [
    {
     "name": "stdout",
     "output_type": "stream",
     "text": [
      "CUDA Available: True\n",
      "GPU Name: NVIDIA GeForce RTX 3050 Laptop GPU\n"
     ]
    }
   ],
   "source": [
    "import torch\n",
    "print(\"CUDA Available:\", torch.cuda.is_available())\n",
    "print(\"GPU Name:\", torch.cuda.get_device_name(0) if torch.cuda.is_available() else \"No GPU found\")"
   ]
  },
  {
   "cell_type": "code",
   "execution_count": 46,
   "id": "4d783d92-b6c9-4d83-91c0-5497db3273e7",
   "metadata": {},
   "outputs": [
    {
     "name": "stdout",
     "output_type": "stream",
     "text": [
      "Using device: cuda\n"
     ]
    }
   ],
   "source": [
    "device = torch.device(\"cuda\" if torch.cuda.is_available() else \"cpu\")\n",
    "print(f\"Using device: {device}\")"
   ]
  },
  {
   "cell_type": "code",
   "execution_count": 14,
   "id": "066f9a77-c702-45a2-a4d0-4337761fa8fb",
   "metadata": {},
   "outputs": [],
   "source": [
    "import torchvision\n",
    "import torchvision.transforms as transforms\n",
    "from torch.utils.data import DataLoader"
   ]
  },
  {
   "cell_type": "markdown",
   "id": "dc769a38-8308-4f1d-88af-f6813a02fba9",
   "metadata": {},
   "source": [
    "# Define transformations"
   ]
  },
  {
   "cell_type": "code",
   "execution_count": 17,
   "id": "23ab923e-807d-46a6-b14c-f7edf42e0c0e",
   "metadata": {},
   "outputs": [],
   "source": [
    "transform = transforms.Compose([\n",
    "    transforms.ToTensor(),  # Convert to tensor\n",
    "    transforms.Normalize((0.4914, 0.4822, 0.4465), (0.247, 0.243, 0.261)),  # Normalize\n",
    "    transforms.RandomHorizontalFlip(),  # Augmentation\n",
    "    transforms.RandomCrop(32, padding=4)\n",
    "])"
   ]
  },
  {
   "cell_type": "markdown",
   "id": "b9f3ccba-0123-4bf1-bba6-7e229bcade11",
   "metadata": {},
   "source": [
    "# Load CIFAR-10 dataset"
   ]
  },
  {
   "cell_type": "code",
   "execution_count": 22,
   "id": "97ab6671-9b4d-495a-b4c4-4734ed11b01b",
   "metadata": {},
   "outputs": [],
   "source": [
    "trainset = torchvision.datasets.CIFAR10(root='./datasets', train=True, download=False, transform=transform)\n",
    "testset = torchvision.datasets.CIFAR10(root='./datasets', train=False, download=False, transform=transform)"
   ]
  },
  {
   "cell_type": "markdown",
   "id": "f4300cd9-4ff0-45b2-84e5-54fce1dd2852",
   "metadata": {},
   "source": [
    "# Create DataLoaders"
   ]
  },
  {
   "cell_type": "code",
   "execution_count": 25,
   "id": "82afe587-61b9-4df5-8da4-0edd06ebbc08",
   "metadata": {},
   "outputs": [],
   "source": [
    "batch_size = 128\n",
    "trainloader = DataLoader(trainset, batch_size=batch_size, shuffle=True, num_workers=2)\n",
    "testloader = DataLoader(testset, batch_size=batch_size, shuffle=False, num_workers=2)"
   ]
  },
  {
   "cell_type": "markdown",
   "id": "ae346286-bcbf-4638-a24b-48026d9da4d7",
   "metadata": {},
   "source": [
    "# Train the Model"
   ]
  },
  {
   "cell_type": "code",
   "execution_count": 42,
   "id": "aeab0bd6-bf26-424f-9d5b-aafabc7bf807",
   "metadata": {},
   "outputs": [],
   "source": [
    "import torch.optim as optim\n",
    "from models.cnn import CNN"
   ]
  },
  {
   "cell_type": "code",
   "execution_count": 48,
   "id": "941e5e54-5eb6-417d-91f8-6ed2e03a3ed2",
   "metadata": {},
   "outputs": [],
   "source": [
    "# Load model\n",
    "model = CNN().to(device)\n",
    "\n",
    "# Define loss function & optimizer\n",
    "criterion = nn.CrossEntropyLoss()\n",
    "optimizer = optim.Adam(model.parameters(), lr=0.001)"
   ]
  },
  {
   "cell_type": "code",
   "execution_count": 50,
   "id": "d06e4f3b-b44c-419b-8b36-eac45a75d505",
   "metadata": {},
   "outputs": [
    {
     "name": "stdout",
     "output_type": "stream",
     "text": [
      "Epoch [1/10], Loss: 1.6567\n",
      "Epoch [2/10], Loss: 1.2831\n",
      "Epoch [3/10], Loss: 1.1162\n",
      "Epoch [4/10], Loss: 1.0096\n",
      "Epoch [5/10], Loss: 0.9388\n",
      "Epoch [6/10], Loss: 0.8793\n",
      "Epoch [7/10], Loss: 0.8452\n",
      "Epoch [8/10], Loss: 0.8006\n",
      "Epoch [9/10], Loss: 0.7794\n",
      "Epoch [10/10], Loss: 0.7545\n"
     ]
    }
   ],
   "source": [
    "# Training loop\n",
    "num_epochs = 10\n",
    "\n",
    "for epoch in range(num_epochs):\n",
    "    model.train()\n",
    "    running_loss = 0.0\n",
    "    for images, labels in trainloader:\n",
    "        images, labels = images.to(device), labels.to(device)\n",
    "\n",
    "        optimizer.zero_grad()  # Clear gradients\n",
    "        outputs = model(images)\n",
    "        loss = criterion(outputs, labels)\n",
    "        loss.backward()\n",
    "        optimizer.step()\n",
    "\n",
    "        running_loss += loss.item()\n",
    "\n",
    "    print(f\"Epoch [{epoch+1}/{num_epochs}], Loss: {running_loss/len(trainloader):.4f}\")"
   ]
  },
  {
   "cell_type": "markdown",
   "id": "513d3497-e9b9-4f1b-8885-e8e8ace04188",
   "metadata": {},
   "source": [
    "# Evaluate the Model"
   ]
  },
  {
   "cell_type": "code",
   "execution_count": 53,
   "id": "ec6845cf-8ec9-4725-8c8d-29c9c8409184",
   "metadata": {},
   "outputs": [
    {
     "name": "stdout",
     "output_type": "stream",
     "text": [
      "Test Accuracy: 74.88%\n"
     ]
    }
   ],
   "source": [
    "model.eval()\n",
    "correct = 0\n",
    "total = 0\n",
    "\n",
    "with torch.no_grad():\n",
    "    for images, labels in testloader:\n",
    "        images, labels = images.to(device), labels.to(device)\n",
    "        outputs = model(images)\n",
    "        _, predicted = torch.max(outputs, 1)\n",
    "        total += labels.size(0)\n",
    "        correct += (predicted == labels).sum().item()\n",
    "\n",
    "print(f\"Test Accuracy: {100 * correct / total:.2f}%\")"
   ]
  },
  {
   "cell_type": "code",
   "execution_count": 55,
   "id": "c3567230-415f-461c-842b-54db72b14ed0",
   "metadata": {},
   "outputs": [],
   "source": [
    "torch.save(model.state_dict(), 'models/cifar10_cnn.pth')"
   ]
  },
  {
   "cell_type": "code",
   "execution_count": null,
   "id": "411e0783-8315-4615-b292-de87c543fa18",
   "metadata": {},
   "outputs": [],
   "source": []
  }
 ],
 "metadata": {
  "kernelspec": {
   "display_name": "Python [conda env:cifar10]",
   "language": "python",
   "name": "conda-env-cifar10-py"
  },
  "language_info": {
   "codemirror_mode": {
    "name": "ipython",
    "version": 3
   },
   "file_extension": ".py",
   "mimetype": "text/x-python",
   "name": "python",
   "nbconvert_exporter": "python",
   "pygments_lexer": "ipython3",
   "version": "3.9.21"
  }
 },
 "nbformat": 4,
 "nbformat_minor": 5
}
